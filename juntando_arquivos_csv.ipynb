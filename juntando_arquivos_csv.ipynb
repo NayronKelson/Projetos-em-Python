{
 "cells": [
  {
   "cell_type": "code",
   "execution_count": 2,
   "metadata": {},
   "outputs": [],
   "source": [
    "import pandas as pd\n",
    "import glob as gb"
   ]
  },
  {
   "cell_type": "code",
   "execution_count": null,
   "metadata": {},
   "outputs": [],
   "source": [
    "caminho = gb.glob(r\"Caminho que esta os arquivos\\*.extensões\")\n",
    "lista_arquivo = []\n",
    "colunas_desejadas = ['Coluna1','Coluna2'] #coloca as colunas que deseja usar para montar os arquivo\n",
    "\n",
    "def verifica_separador(dados):\n",
    "    with open(dados, 'r') as dados_csv:\n",
    "        lendo_linha = dados_csv.readline()\n",
    "        if '\\t' in lendo_linha:\n",
    "            return '\\t'\n",
    "        elif ';' in lendo_linha:\n",
    "            return ';'\n",
    "        elif ',' in lendo_linha:\n",
    "            return ','\n",
    "\n",
    "for lista in caminho:\n",
    "    lista_arquivo.append(lista)\n",
    "    \n",
    "    leitura_arquivos = []\n",
    "    \n",
    "    for lendo_listas in lista_arquivo:\n",
    "        separador = verifica_separador(lendo_listas)\n",
    "    \n",
    "        if separador != \";\":\n",
    "            ler_arquivo = pd.read_csv(lendo_listas,index_col=0, usecols=colunas_desejadas ,delimiter=separador)\n",
    "            leitura_arquivos.append(ler_arquivo)\n",
    "            \n",
    "        if len(lista_arquivo) == len(leitura_arquivos):        \n",
    "            arquivo_final = pd.concat(leitura_arquivos)\n",
    "            arquivo_final = arquivo_final.dropna(how='all')\n",
    "            arquivo_final.to_csv(r'caminho que deseja salvar o novo arquivo\\nome_do_novo_arquivo.csv', sep = ';')\n",
    "            \n",
    "arquivo_final"
   ]
  }
 ],
 "metadata": {
  "kernelspec": {
   "display_name": "Python 3",
   "language": "python",
   "name": "python3"
  },
  "language_info": {
   "codemirror_mode": {
    "name": "ipython",
    "version": 3
   },
   "file_extension": ".py",
   "mimetype": "text/x-python",
   "name": "python",
   "nbconvert_exporter": "python",
   "pygments_lexer": "ipython3",
   "version": "3.10.4"
  }
 },
 "nbformat": 4,
 "nbformat_minor": 2
}
